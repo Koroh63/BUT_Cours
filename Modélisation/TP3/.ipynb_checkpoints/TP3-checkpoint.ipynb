{
 "cells": [
  {
   "cell_type": "code",
   "execution_count": 10,
   "id": "0464823b",
   "metadata": {
    "scrolled": true
   },
   "outputs": [],
   "source": [
    "import pandas as pd\n",
    "%matplotlib inline \n",
    "import numpy as np\n",
    "import sklearn as sk\n",
    "import matplotlib.pyplot as plt\n",
    "from sklearn import datasets"
   ]
  },
  {
   "cell_type": "code",
   "execution_count": 11,
   "id": "e52dfe16",
   "metadata": {},
   "outputs": [
    {
     "name": "stdout",
     "output_type": "stream",
     "text": [
      "<class 'sklearn.utils._bunch.Bunch'>\n",
      "<class 'numpy.ndarray'>\n",
      "(150, 4)\n",
      "[0 1 2]\n",
      "(150, 2)\n",
      "[0 1]\n"
     ]
    },
    {
     "data": {
      "image/png": "[encoded data removed]",
      "text/plain": [
       "<Figure size 1000x600 with 1 Axes>"
      ]
     },
     "metadata": {},
     "output_type": "display_data"
    }
   ],
   "source": [
    "iris = datasets.load_iris()\n",
    "#vérifier le type de la variable iris\n",
    "print(type(iris))\n",
    "#vérifier quel est le type de données\n",
    "print(type(iris.data)) \n",
    "#vérifier les dimensions\n",
    "print(iris.data.shape)\n",
    "X = iris.data[:, :2] # Utiliser les deux premières colonnes afin d'avoir un\n",
    "print(np.unique(iris.target))\n",
    "#on va garder deux classes seulement pour un test simple\n",
    "y = (iris.target != 0) * 1 # re-étiquetage des fleurs\n",
    "print(X.shape)\n",
    "print(np.unique(y))\n",
    "#visualisation des données\n",
    "plt.figure(figsize=(10, 6))\n",
    "plt.scatter(X[y == 0][:, 0], X[y == 0][:, 1], color='b', label='classe 0')\n",
    "plt.scatter(X[y == 1][:, 0], X[y == 1][:, 1], color='r', label='classe 1')\n",
    "plt.legend();\n"
   ]
  },
  {
   "cell_type": "code",
   "execution_count": 20,
   "id": "a4b00ad8",
   "metadata": {},
   "outputs": [
    {
     "name": "stdout",
     "output_type": "stream",
     "text": [
      "[[5.5 2.5]\n",
      " [7.  3. ]\n",
      " [3.  2. ]\n",
      " [5.  3. ]]\n"
     ]
    }
   ],
   "source": [
    "#charger le modèle\n",
    "from sklearn.linear_model import LogisticRegression\n",
    "\n",
    "model = LogisticRegression(C=1e20) # Régression logistique\n",
    "# Entrainement du modèle avec toutes les données\n",
    "model.fit(X, y)\n",
    "Xnew = np.array([\n",
    " [5.5, 2.5],\n",
    " [7, 3],\n",
    " [3,2],\n",
    " [5,3]\n",
    "])\n",
    "model.predict(Xnew)\n",
    "type(Xnew)\n",
    "print(Xnew)\n"
   ]
  },
  {
   "cell_type": "code",
   "execution_count": 19,
   "id": "36ac1f94",
   "metadata": {},
   "outputs": [
    {
     "ename": "SyntaxError",
     "evalue": "unterminated string literal (detected at line 8) (1282787573.py, line 8)",
     "output_type": "error",
     "traceback": [
      "\u001b[1;36m  Cell \u001b[1;32mIn[19], line 8\u001b[1;36m\u001b[0m\n\u001b[1;33m    plt.scatter(Xnew[i, 0], Xnew[i, 1],s[i], color=Color[i],marker=r'$\\clubs\u001b[0m\n\u001b[1;37m                                                                   ^\u001b[0m\n\u001b[1;31mSyntaxError\u001b[0m\u001b[1;31m:\u001b[0m unterminated string literal (detected at line 8)\n"
     ]
    }
   ],
   "source": [
    "\n",
    "plt.figure(figsize=(10, 6))\n",
    "plt.scatter(X[y == 0][:, 0], X[y == 0][:, 1], color='b', label='class 0')\n",
    "plt.scatter(X[y == 1][:, 0], X[y == 1][:, 1], color='r', label='class 1')\n",
    "s = np.random.rand(*Xnew[:, 0].shape) * 800 + 500\n",
    "print(s.shape)\n",
    "Color='kygm' #noir jaune vert magneta\n",
    "for i in range(Xnew.shape[0]):\n",
    "    plt.scatter(Xnew[i, 0], Xnew[i, 1],s[i], color=Color[i],marker=r'$\\clubs\n",
    "plt.legend();\n",
    "             "
   ]
  },
  {
   "cell_type": "code",
   "execution_count": 21,
   "id": "874229c5",
   "metadata": {},
   "outputs": [
    {
     "name": "stdout",
     "output_type": "stream",
     "text": [
      "<class 'pandas.core.frame.DataFrame'>\n",
      "RangeIndex: 891 entries, 0 to 890\n",
      "Data columns (total 12 columns):\n",
      " #   Column       Non-Null Count  Dtype  \n",
      "---  ------       --------------  -----  \n",
      " 0   PassengerId  891 non-null    int64  \n",
      " 1   Survived     891 non-null    int64  \n",
      " 2   Pclass       891 non-null    int64  \n",
      " 3   Name         891 non-null    object \n",
      " 4   Sex          891 non-null    object \n",
      " 5   Age          714 non-null    float64\n",
      " 6   SibSp        891 non-null    int64  \n",
      " 7   Parch        891 non-null    int64  \n",
      " 8   Ticket       891 non-null    object \n",
      " 9   Fare         891 non-null    float64\n",
      " 10  Cabin        204 non-null    object \n",
      " 11  Embarked     889 non-null    object \n",
      "dtypes: float64(2), int64(5), object(5)\n",
      "memory usage: 83.7+ KB\n"
     ]
    },
    {
     "data": {
      "text/plain": [
       "PassengerId      0\n",
       "Survived         0\n",
       "Pclass           0\n",
       "Name             0\n",
       "Sex              0\n",
       "Age            177\n",
       "SibSp            0\n",
       "Parch            0\n",
       "Ticket           0\n",
       "Fare             0\n",
       "Cabin          687\n",
       "Embarked         2\n",
       "dtype: int64"
      ]
     },
     "execution_count": 21,
     "metadata": {},
     "output_type": "execute_result"
    }
   ],
   "source": [
    "\n",
    "df=pd.read_csv('titanic/train.csv')\n",
    "df.head(5)\n",
    "df.shape\n",
    "df.describe()\n",
    "df.info()\n",
    "df.columns[df.isna().any()].tolist()\n",
    "df.isna().sum()"
   ]
  },
  {
   "cell_type": "code",
   "execution_count": 22,
   "id": "93e6682f",
   "metadata": {},
   "outputs": [],
   "source": [
    "def replace_Age_nan_moyenne(fd, column):\n",
    "    df_m=df.copy()\n",
    "    df_m.Age = df.fillna(value=df[column].median())\n",
    "\n",
    "def get_n_closest_Fare_Class(df, n, fare, pclass):\n",
    "    sub_df = df[df.Pclass == pclass].copy()\n",
    "    sub_df['temp_diff'] = abs(sub_df.Fare=fare)\n",
    "    sub_df = sub_df.nsmallest(n,'temp_diff')\n",
    "    return sub.def.Age.mean()\n",
    "    \n",
    "    \n",
    "def replace_nan_moy_n_FareClass(df,n):\n",
    "    rep_df = copy()\n",
    "    \n",
    "    sub_df = rep_df[pd.isnull(rep_df.Age)]\n",
    "    \n",
    "    for index,row in sub_df.iterrows():\n",
    "        fare,pclass = row.Fare,row.Pclass\n",
    "        age.mean = get_b_closest_Fare_Class(rep_df, n, fare, pclass)\n",
    "        rep_df.at[index,'Age'] = age.mean\n",
    "    return rep_df"
   ]
  }
 ],
 "metadata": {
  "kernelspec": {
   "display_name": "Python 3 (ipykernel)",
   "language": "python",
   "name": "python3"
  },
  "language_info": {
   "codemirror_mode": {
    "name": "ipython",
    "version": 3
   },
   "file_extension": ".py",
   "mimetype": "text/x-python",
   "name": "python",
   "nbconvert_exporter": "python",
   "pygments_lexer": "ipython3",
   "version": "3.11.5"
  }
 },
 "nbformat": 4,
 "nbformat_minor": 5
}
