{
 "cells": [
  {
   "cell_type": "code",
   "execution_count": 10,
   "id": "0202e55e",
   "metadata": {
    "scrolled": true
   },
   "outputs": [],
   "source": [
    "import pandas as pd\n",
    "%matplotlib inline \n",
    "import numpy as np\n",
    "import sklearn as sk\n",
    "import matplotlib.pyplot as plt\n",
    "from sklearn import datasets"
   ]
  },
  {
   "cell_type": "code",
   "execution_count": 11,
   "id": "b3722642",
   "metadata": {},
   "outputs": [
    {
     "name": "stdout",
     "output_type": "stream",
     "text": [
      "<class 'sklearn.utils._bunch.Bunch'>\n",
      "<class 'numpy.ndarray'>\n",
      "(150, 4)\n",
      "[0 1 2]\n",
      "(150, 2)\n",
      "[0 1]\n"
     ]
    },
    {
     "data": {
      "image/png": "[encoded data removed]",
      "text/plain": [
       "<Figure size 1000x600 with 1 Axes>"
      ]
     },
     "metadata": {},
     "output_type": "display_data"
    }
   ],
   "source": [
    "iris = datasets.load_iris()\n",
    "#vérifier le type de la variable iris\n",
    "print(type(iris))\n",
    "#vérifier quel est le type de données\n",
    "print(type(iris.data)) \n",
    "#vérifier les dimensions\n",
    "print(iris.data.shape)\n",
    "X = iris.data[:, :2] # Utiliser les deux premières colonnes afin d'avoir un\n",
    "print(np.unique(iris.target))\n",
    "#on va garder deux classes seulement pour un test simple\n",
    "y = (iris.target != 0) * 1 # re-étiquetage des fleurs\n",
    "print(X.shape)\n",
    "print(np.unique(y))\n",
    "#visualisation des données\n",
    "plt.figure(figsize=(10, 6))\n",
    "plt.scatter(X[y == 0][:, 0], X[y == 0][:, 1], color='b', label='classe 0')\n",
    "plt.scatter(X[y == 1][:, 0], X[y == 1][:, 1], color='r', label='classe 1')\n",
    "plt.legend();\n"
   ]
  },
  {
   "cell_type": "code",
   "execution_count": 20,
   "id": "1285d5ee",
   "metadata": {},
   "outputs": [
    {
     "name": "stdout",
     "output_type": "stream",
     "text": [
      "[[5.5 2.5]\n",
      " [7.  3. ]\n",
      " [3.  2. ]\n",
      " [5.  3. ]]\n"
     ]
    }
   ],
   "source": [
    "#charger le modèle\n",
    "from sklearn.linear_model import LogisticRegression\n",
    "\n",
    "model = LogisticRegression(C=1e20) # Régression logistique\n",
    "# Entrainement du modèle avec toutes les données\n",
    "model.fit(X, y)\n",
    "Xnew = np.array([\n",
    " [5.5, 2.5],\n",
    " [7, 3],\n",
    " [3,2],\n",
    " [5,3]\n",
    "])\n",
    "model.predict(Xnew)\n",
    "type(Xnew)\n",
    "print(Xnew)\n"
   ]
  },
  {
   "cell_type": "code",
   "execution_count": 19,
   "id": "ac9a082e",
   "metadata": {},
   "outputs": [
    {
     "ename": "SyntaxError",
     "evalue": "unterminated string literal (detected at line 8) (1282787573.py, line 8)",
     "output_type": "error",
     "traceback": [
      "\u001b[1;36m  Cell \u001b[1;32mIn[19], line 8\u001b[1;36m\u001b[0m\n\u001b[1;33m    plt.scatter(Xnew[i, 0], Xnew[i, 1],s[i], color=Color[i],marker=r'$\\clubs\u001b[0m\n\u001b[1;37m                                                                   ^\u001b[0m\n\u001b[1;31mSyntaxError\u001b[0m\u001b[1;31m:\u001b[0m unterminated string literal (detected at line 8)\n"
     ]
    }
   ],
   "source": [
    "\n",
    "plt.figure(figsize=(10, 6))\n",
    "plt.scatter(X[y == 0][:, 0], X[y == 0][:, 1], color='b', label='class 0')\n",
    "plt.scatter(X[y == 1][:, 0], X[y == 1][:, 1], color='r', label='class 1')\n",
    "s = np.random.rand(*Xnew[:, 0].shape) * 800 + 500\n",
    "print(s.shape)\n",
    "Color='kygm' #noir jaune vert magneta\n",
    "for i in range(Xnew.shape[0]):\n",
    "    plt.scatter(Xnew[i, 0], Xnew[i, 1],s[i], color=Color[i],marker=r'$\\clubs\n",
    "plt.legend();\n",
    "             "
   ]
  },
  {
   "cell_type": "code",
   "execution_count": 21,
   "id": "0c530daf",
   "metadata": {},
   "outputs": [
    {
     "name": "stdout",
     "output_type": "stream",
     "text": [
      "<class 'pandas.core.frame.DataFrame'>\n",
      "RangeIndex: 891 entries, 0 to 890\n",
      "Data columns (total 12 columns):\n",
      " #   Column       Non-Null Count  Dtype  \n",
      "---  ------       --------------  -----  \n",
      " 0   PassengerId  891 non-null    int64  \n",
      " 1   Survived     891 non-null    int64  \n",
      " 2   Pclass       891 non-null    int64  \n",
      " 3   Name         891 non-null    object \n",
      " 4   Sex          891 non-null    object \n",
      " 5   Age          714 non-null    float64\n",
      " 6   SibSp        891 non-null    int64  \n",
      " 7   Parch        891 non-null    int64  \n",
      " 8   Ticket       891 non-null    object \n",
      " 9   Fare         891 non-null    float64\n",
      " 10  Cabin        204 non-null    object \n",
      " 11  Embarked     889 non-null    object \n",
      "dtypes: float64(2), int64(5), object(5)\n",
      "memory usage: 83.7+ KB\n"
     ]
    },
    {
     "data": {
      "text/plain": [
       "PassengerId      0\n",
       "Survived         0\n",
       "Pclass           0\n",
       "Name             0\n",
       "Sex              0\n",
       "Age            177\n",
       "SibSp            0\n",
       "Parch            0\n",
       "Ticket           0\n",
       "Fare             0\n",
       "Cabin          687\n",
       "Embarked         2\n",
       "dtype: int64"
      ]
     },
     "execution_count": 21,
     "metadata": {},
     "output_type": "execute_result"
    }
   ],
   "source": [
    "\n",
    "df=pd.read_csv('titanic/train.csv')\n",
    "df.head(5)\n",
    "df.shape\n",
    "df.describe()\n",
    "df.info()\n",
    "df.columns[df.isna().any()].tolist()\n",
    "df.isna().sum()"
   ]
  },
  {
   "cell_type": "code",
   "execution_count": 22,
   "id": "356dafa6",
   "metadata": {},
   "outputs": [],
   "source": [
    "def replace_Age_nan_moyenne(fd, column):\n",
    "    df_m=df.copy()\n",
    "    df_m.Age = df.fillna(value=df[column].median())\n",
    "\n",
    "def get_n_closest_Fare_Class(df, n, fare, pclass):\n",
    "    sub_df = df[df.Pclass == pclass].copy()\n",
    "    sub_df['temp_diff'] = abs(sub_df.Fare=fare)\n",
    "    sub_df = sub_df.nsmallest(n,'temp_diff')\n",
    "    return sub.def.Age.mean()\n",
    "    \n",
    "    \n",
    "def replace_nan_moy_n_FareClass(df,n):\n",
    "    rep_df = copy()\n",
    "    \n",
    "    sub_df = rep_df[pd.isnull(rep_df.Age)]\n",
    "    \n",
    "    for index,row in sub_df.iterrows():\n",
    "        fare,pclass = row.Fare,row.Pclass\n",
    "        age.mean = get_b_closest_Fare_Class(rep_df, n, fare, pclass)\n",
    "        rep_df.at[index,'Age'] = age.mean\n",
    "    return rep_df"
   ]
  },
  {
   "cell_type": "code",
   "execution_count": 23,
   "id": "791bb728",
   "metadata": {},
   "outputs": [],
   "source": [
    "temp = df.dropna()"
   ]
  },
  {
   "cell_type": "code",
   "execution_count": 24,
   "id": "e9df6a34",
   "metadata": {},
   "outputs": [
    {
     "data": {
      "text/plain": [
       "<bound method NDFrame.head of      PassengerId  Survived  Pclass  \\\n",
       "0              1         0       3   \n",
       "1              2         1       1   \n",
       "2              3         1       3   \n",
       "3              4         1       1   \n",
       "4              5         0       3   \n",
       "..           ...       ...     ...   \n",
       "886          887         0       2   \n",
       "887          888         1       1   \n",
       "888          889         0       3   \n",
       "889          890         1       1   \n",
       "890          891         0       3   \n",
       "\n",
       "                                                  Name     Sex   Age  SibSp  \\\n",
       "0                              Braund, Mr. Owen Harris    male  22.0      1   \n",
       "1    Cumings, Mrs. John Bradley (Florence Briggs Th...  female  38.0      1   \n",
       "2                               Heikkinen, Miss. Laina  female  26.0      0   \n",
       "3         Futrelle, Mrs. Jacques Heath (Lily May Peel)  female  35.0      1   \n",
       "4                             Allen, Mr. William Henry    male  35.0      0   \n",
       "..                                                 ...     ...   ...    ...   \n",
       "886                              Montvila, Rev. Juozas    male  27.0      0   \n",
       "887                       Graham, Miss. Margaret Edith  female  19.0      0   \n",
       "888           Johnston, Miss. Catherine Helen \"Carrie\"  female   NaN      1   \n",
       "889                              Behr, Mr. Karl Howell    male  26.0      0   \n",
       "890                                Dooley, Mr. Patrick    male  32.0      0   \n",
       "\n",
       "     Parch            Ticket     Fare Cabin Embarked  sex_as_int  \n",
       "0        0         A/5 21171   7.2500   NaN        S           1  \n",
       "1        0          PC 17599  71.2833   C85        C           0  \n",
       "2        0  STON/O2. 3101282   7.9250   NaN        S           0  \n",
       "3        0            113803  53.1000  C123        S           0  \n",
       "4        0            373450   8.0500   NaN        S           1  \n",
       "..     ...               ...      ...   ...      ...         ...  \n",
       "886      0            211536  13.0000   NaN        S           1  \n",
       "887      0            112053  30.0000   B42        S           0  \n",
       "888      2        W./C. 6607  23.4500   NaN        S           0  \n",
       "889      0            111369  30.0000  C148        C           1  \n",
       "890      0            370376   7.7500   NaN        Q           1  \n",
       "\n",
       "[891 rows x 13 columns]>"
      ]
     },
     "execution_count": 24,
     "metadata": {},
     "output_type": "execute_result"
    }
   ],
   "source": [
    "df[\"sex_as_int\"] = (df['Sex'] == 'male').astype(int)\n",
    "df.head"
   ]
  },
  {
   "cell_type": "code",
   "execution_count": 25,
   "id": "c5decc94",
   "metadata": {},
   "outputs": [
    {
     "data": {
      "text/plain": [
       "342"
      ]
     },
     "execution_count": 25,
     "metadata": {},
     "output_type": "execute_result"
    }
   ],
   "source": [
    "df.Survived.sum()"
   ]
  },
  {
   "cell_type": "code",
   "execution_count": 30,
   "id": "f1db9d7b",
   "metadata": {},
   "outputs": [
    {
     "data": {
      "image/png": "[encoded data removed]",
      "text/plain": [
       "<Figure size 640x480 with 1 Axes>"
      ]
     },
     "metadata": {},
     "output_type": "display_data"
    }
   ],
   "source": [
    "def get_survived_color(survived):\n",
    "    return\"green\" if survived else \"red\"\n",
    "\n",
    "for row in temp.itertuples():\n",
    "    plt.scatter(row.Age, row.Fare, color=get_survived_color(row.Survived))"
   ]
  },
  {
   "cell_type": "code",
   "execution_count": 31,
   "id": "d7fec54f",
   "metadata": {},
   "outputs": [
    {
     "data": {
      "image/png": "[encoded data removed]",
      "text/plain": [
       "<Figure size 640x480 with 1 Axes>"
      ]
     },
     "metadata": {},
     "output_type": "display_data"
    }
   ],
   "source": [
    "for row in temp.itertuples():\n",
    "    plt.scatter(row.Pclass, row.Fare, color=get_survived_color(row.Survived))"
   ]
  },
  {
   "cell_type": "code",
   "execution_count": 35,
   "id": "6d38df1b",
   "metadata": {},
   "outputs": [
    {
     "ename": "AttributeError",
     "evalue": "'numpy.ndarray' object has no attribute 'head'",
     "output_type": "error",
     "traceback": [
      "\u001b[1;31m---------------------------------------------------------------------------\u001b[0m",
      "\u001b[1;31mAttributeError\u001b[0m                            Traceback (most recent call last)",
      "Cell \u001b[1;32mIn[35], line 5\u001b[0m\n\u001b[0;32m      1\u001b[0m \u001b[38;5;28;01mfrom\u001b[39;00m \u001b[38;5;21;01msklearn\u001b[39;00m\u001b[38;5;21;01m.\u001b[39;00m\u001b[38;5;21;01mmodel_selection\u001b[39;00m \u001b[38;5;28;01mimport\u001b[39;00m train_test_split\n\u001b[0;32m      3\u001b[0m X \u001b[38;5;241m=\u001b[39m np\u001b[38;5;241m.\u001b[39marray(df)[:,:\u001b[38;5;241m2\u001b[39m]\n\u001b[1;32m----> 5\u001b[0m X\u001b[38;5;241m.\u001b[39mhead(\u001b[38;5;241m5\u001b[39m)\n",
      "\u001b[1;31mAttributeError\u001b[0m: 'numpy.ndarray' object has no attribute 'head'"
     ]
    }
   ],
   "source": [
    "from sklearn.model_selection import train_test_split\n",
    "\n",
    "\n",
    "\n",
    "Xtrain, Xtest, Ytrain, Ytest = train_test_split(df.Age,df.Survived,test_size=0.20,random_)"
   ]
  }
 ],
 "metadata": {
  "kernelspec": {
   "display_name": "Python 3 (ipykernel)",
   "language": "python",
   "name": "python3"
  },
  "language_info": {
   "codemirror_mode": {
    "name": "ipython",
    "version": 3
   },
   "file_extension": ".py",
   "mimetype": "text/x-python",
   "name": "python",
   "nbconvert_exporter": "python",
   "pygments_lexer": "ipython3",
   "version": "3.11.5"
  }
 },
 "nbformat": 4,
 "nbformat_minor": 5
}
